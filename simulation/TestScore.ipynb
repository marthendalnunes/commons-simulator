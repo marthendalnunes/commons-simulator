{
 "cells": [
  {
   "cell_type": "code",
   "execution_count": 1,
   "metadata": {},
   "outputs": [
    {
     "name": "stdout",
     "output_type": "stream",
     "text": [
      "Requirement already satisfied: argon2-cffi==20.1.0 in /home/vitor/anaconda3/envs/commons/lib/python3.8/site-packages (from -r requirements.txt (line 1)) (20.1.0)\n",
      "Requirement already satisfied: astroid==2.4.2 in /home/vitor/anaconda3/envs/commons/lib/python3.8/site-packages (from -r requirements.txt (line 2)) (2.4.2)\n",
      "Requirement already satisfied: async-generator==1.10 in /home/vitor/anaconda3/envs/commons/lib/python3.8/site-packages (from -r requirements.txt (line 3)) (1.10)\n",
      "Collecting attrs==20.2.0\n",
      "  Using cached attrs-20.2.0-py2.py3-none-any.whl (48 kB)\n",
      "Requirement already satisfied: autopep8==1.5.4 in /home/vitor/anaconda3/envs/commons/lib/python3.8/site-packages (from -r requirements.txt (line 5)) (1.5.4)\n",
      "Requirement already satisfied: backcall==0.2.0 in /home/vitor/anaconda3/envs/commons/lib/python3.8/site-packages (from -r requirements.txt (line 6)) (0.2.0)\n",
      "Requirement already satisfied: bleach==3.2.1 in /home/vitor/anaconda3/envs/commons/lib/python3.8/site-packages (from -r requirements.txt (line 7)) (3.2.1)\n",
      "Requirement already satisfied: cadCAD==0.4.23 in /home/vitor/anaconda3/envs/commons/lib/python3.8/site-packages (from -r requirements.txt (line 8)) (0.4.23)\n",
      "Requirement already satisfied: certifi==2020.6.20 in /home/vitor/anaconda3/envs/commons/lib/python3.8/site-packages (from -r requirements.txt (line 9)) (2020.6.20)\n",
      "Requirement already satisfied: cffi==1.14.3 in /home/vitor/anaconda3/envs/commons/lib/python3.8/site-packages (from -r requirements.txt (line 10)) (1.14.3)\n",
      "Collecting coverage==5.3\n",
      "  Downloading coverage-5.3-cp38-cp38-manylinux1_x86_64.whl (230 kB)\n",
      "\u001b[K     |████████████████████████████████| 230 kB 365 kB/s eta 0:00:01\n",
      "\u001b[?25hRequirement already satisfied: cycler==0.10.0 in /home/vitor/anaconda3/envs/commons/lib/python3.8/site-packages (from -r requirements.txt (line 12)) (0.10.0)\n",
      "Requirement already satisfied: decorator==4.4.2 in /home/vitor/anaconda3/envs/commons/lib/python3.8/site-packages (from -r requirements.txt (line 13)) (4.4.2)\n",
      "Requirement already satisfied: defusedxml==0.6.0 in /home/vitor/anaconda3/envs/commons/lib/python3.8/site-packages (from -r requirements.txt (line 14)) (0.6.0)\n",
      "Collecting dill==0.3.2\n",
      "  Using cached dill-0.3.2.zip (177 kB)\n",
      "Requirement already satisfied: entrypoints==0.3 in /home/vitor/anaconda3/envs/commons/lib/python3.8/site-packages (from -r requirements.txt (line 16)) (0.3)\n",
      "Requirement already satisfied: fn==0.4.3 in /home/vitor/anaconda3/envs/commons/lib/python3.8/site-packages (from -r requirements.txt (line 17)) (0.4.3)\n",
      "Requirement already satisfied: funcy==1.15 in /home/vitor/anaconda3/envs/commons/lib/python3.8/site-packages (from -r requirements.txt (line 18)) (1.15)\n",
      "Collecting iniconfig==1.0.1\n",
      "  Using cached iniconfig-1.0.1-py3-none-any.whl (4.2 kB)\n",
      "Requirement already satisfied: ipykernel==5.3.4 in /home/vitor/anaconda3/envs/commons/lib/python3.8/site-packages (from -r requirements.txt (line 20)) (5.3.4)\n",
      "Collecting ipython==7.18.1\n",
      "  Using cached ipython-7.18.1-py3-none-any.whl (786 kB)\n",
      "Requirement already satisfied: ipython-genutils==0.2.0 in /home/vitor/anaconda3/envs/commons/lib/python3.8/site-packages (from -r requirements.txt (line 22)) (0.2.0)\n",
      "Requirement already satisfied: ipywidgets==7.5.1 in /home/vitor/anaconda3/envs/commons/lib/python3.8/site-packages (from -r requirements.txt (line 23)) (7.5.1)\n",
      "Collecting isort==5.5.4\n",
      "  Using cached isort-5.5.4-py3-none-any.whl (95 kB)\n",
      "Collecting jedi==0.17.2\n",
      "  Using cached jedi-0.17.2-py2.py3-none-any.whl (1.4 MB)\n",
      "Requirement already satisfied: Jinja2==2.11.2 in /home/vitor/anaconda3/envs/commons/lib/python3.8/site-packages (from -r requirements.txt (line 26)) (2.11.2)\n",
      "Requirement already satisfied: jsonschema==3.2.0 in /home/vitor/anaconda3/envs/commons/lib/python3.8/site-packages (from -r requirements.txt (line 27)) (3.2.0)\n",
      "Requirement already satisfied: jupyter==1.0.0 in /home/vitor/anaconda3/envs/commons/lib/python3.8/site-packages (from -r requirements.txt (line 28)) (1.0.0)\n",
      "Requirement already satisfied: jupyter-client==6.1.7 in /home/vitor/anaconda3/envs/commons/lib/python3.8/site-packages (from -r requirements.txt (line 29)) (6.1.7)\n",
      "Requirement already satisfied: jupyter-console==6.2.0 in /home/vitor/anaconda3/envs/commons/lib/python3.8/site-packages (from -r requirements.txt (line 30)) (6.2.0)\n",
      "Requirement already satisfied: jupyter-core==4.6.3 in /home/vitor/anaconda3/envs/commons/lib/python3.8/site-packages (from -r requirements.txt (line 31)) (4.6.3)\n",
      "Requirement already satisfied: jupyterlab-pygments==0.1.2 in /home/vitor/anaconda3/envs/commons/lib/python3.8/site-packages (from -r requirements.txt (line 32)) (0.1.2)\n",
      "Collecting jupyterthemes==0.20.0\n",
      "  Using cached jupyterthemes-0.20.0-py2.py3-none-any.whl (7.0 MB)\n",
      "Collecting kiwisolver==1.2.0\n",
      "  Downloading kiwisolver-1.2.0-cp38-cp38-manylinux1_x86_64.whl (92 kB)\n",
      "\u001b[K     |████████████████████████████████| 92 kB 19 kB/s  eta 0:00:01\n",
      "\u001b[?25hRequirement already satisfied: lazy-object-proxy==1.4.3 in /home/vitor/anaconda3/envs/commons/lib/python3.8/site-packages (from -r requirements.txt (line 35)) (1.4.3)\n",
      "Collecting lesscpy==0.14.0\n",
      "  Using cached lesscpy-0.14.0-py2.py3-none-any.whl (46 kB)\n",
      "Requirement already satisfied: MarkupSafe==1.1.1 in /home/vitor/anaconda3/envs/commons/lib/python3.8/site-packages (from -r requirements.txt (line 37)) (1.1.1)\n",
      "Requirement already satisfied: matplotlib==3.3.2 in /home/vitor/anaconda3/envs/commons/lib/python3.8/site-packages (from -r requirements.txt (line 38)) (3.3.2)\n",
      "Requirement already satisfied: mccabe==0.6.1 in /home/vitor/anaconda3/envs/commons/lib/python3.8/site-packages (from -r requirements.txt (line 39)) (0.6.1)\n",
      "Requirement already satisfied: mistune==0.8.4 in /home/vitor/anaconda3/envs/commons/lib/python3.8/site-packages (from -r requirements.txt (line 40)) (0.8.4)\n",
      "Collecting multiprocess==0.70.10\n",
      "  Using cached multiprocess-0.70.10.zip (2.4 MB)\n",
      "Collecting nbclient==0.5.0\n",
      "  Using cached nbclient-0.5.0-py3-none-any.whl (65 kB)\n",
      "Requirement already satisfied: nbconvert==6.0.7 in /home/vitor/anaconda3/envs/commons/lib/python3.8/site-packages (from -r requirements.txt (line 43)) (6.0.7)\n",
      "Collecting nbformat==5.0.7\n",
      "  Using cached nbformat-5.0.7-py3-none-any.whl (170 kB)\n",
      "Collecting nest-asyncio==1.4.1\n",
      "  Using cached nest_asyncio-1.4.1-py3-none-any.whl (5.2 kB)\n",
      "Requirement already satisfied: networkx==2.5 in /home/vitor/anaconda3/envs/commons/lib/python3.8/site-packages (from -r requirements.txt (line 46)) (2.5)\n",
      "Requirement already satisfied: notebook==6.1.4 in /home/vitor/anaconda3/envs/commons/lib/python3.8/site-packages (from -r requirements.txt (line 47)) (6.1.4)\n",
      "Requirement already satisfied: numpy==1.19.2 in /home/vitor/anaconda3/envs/commons/lib/python3.8/site-packages (from -r requirements.txt (line 48)) (1.19.2)\n",
      "Requirement already satisfied: packaging==20.4 in /home/vitor/anaconda3/envs/commons/lib/python3.8/site-packages (from -r requirements.txt (line 49)) (20.4)\n",
      "Requirement already satisfied: pandas==1.1.3 in /home/vitor/anaconda3/envs/commons/lib/python3.8/site-packages (from -r requirements.txt (line 50)) (1.1.3)\n",
      "Collecting pandocfilters==1.4.2\n",
      "  Using cached pandocfilters-1.4.2.tar.gz (14 kB)\n",
      "Collecting parso==0.7.1\n",
      "  Using cached parso-0.7.1-py2.py3-none-any.whl (109 kB)\n",
      "Collecting pathos==0.2.6\n",
      "  Using cached pathos-0.2.6.zip (219 kB)\n",
      "Requirement already satisfied: pexpect==4.8.0 in /home/vitor/anaconda3/envs/commons/lib/python3.8/site-packages (from -r requirements.txt (line 54)) (4.8.0)\n",
      "Requirement already satisfied: pickleshare==0.7.5 in /home/vitor/anaconda3/envs/commons/lib/python3.8/site-packages (from -r requirements.txt (line 55)) (0.7.5)\n",
      "Collecting Pillow==7.2.0\n",
      "  Downloading Pillow-7.2.0-cp38-cp38-manylinux1_x86_64.whl (2.2 MB)\n",
      "\u001b[K     |████████████████████████████████| 2.2 MB 172 kB/s eta 0:00:01\n",
      "\u001b[?25hRequirement already satisfied: pluggy==0.13.1 in /home/vitor/anaconda3/envs/commons/lib/python3.8/site-packages (from -r requirements.txt (line 57)) (0.13.1)\n",
      "Requirement already satisfied: ply==3.11 in /home/vitor/anaconda3/envs/commons/lib/python3.8/site-packages (from -r requirements.txt (line 58)) (3.11)\n",
      "Collecting pox==0.2.8\n",
      "  Using cached pox-0.2.8.zip (128 kB)\n",
      "Collecting ppft==1.6.6.2\n",
      "  Using cached ppft-1.6.6.2.zip (106 kB)\n"
     ]
    },
    {
     "name": "stdout",
     "output_type": "stream",
     "text": [
      "Requirement already satisfied: prometheus-client==0.8.0 in /home/vitor/anaconda3/envs/commons/lib/python3.8/site-packages (from -r requirements.txt (line 61)) (0.8.0)\n",
      "Collecting prompt-toolkit==3.0.7\n",
      "  Using cached prompt_toolkit-3.0.7-py3-none-any.whl (355 kB)\n",
      "Requirement already satisfied: ptyprocess==0.6.0 in /home/vitor/anaconda3/envs/commons/lib/python3.8/site-packages (from -r requirements.txt (line 63)) (0.6.0)\n",
      "Requirement already satisfied: py==1.9.0 in /home/vitor/anaconda3/envs/commons/lib/python3.8/site-packages (from -r requirements.txt (line 64)) (1.9.0)\n",
      "Requirement already satisfied: pycodestyle==2.6.0 in /home/vitor/anaconda3/envs/commons/lib/python3.8/site-packages (from -r requirements.txt (line 65)) (2.6.0)\n",
      "Requirement already satisfied: pycparser==2.20 in /home/vitor/anaconda3/envs/commons/lib/python3.8/site-packages (from -r requirements.txt (line 66)) (2.20)\n",
      "Collecting Pygments==2.7.1\n",
      "  Using cached Pygments-2.7.1-py3-none-any.whl (944 kB)\n",
      "Requirement already satisfied: pylint==2.6.0 in /home/vitor/anaconda3/envs/commons/lib/python3.8/site-packages (from -r requirements.txt (line 68)) (2.6.0)\n",
      "Requirement already satisfied: pyparsing==2.4.7 in /home/vitor/anaconda3/envs/commons/lib/python3.8/site-packages (from -r requirements.txt (line 69)) (2.4.7)\n",
      "Requirement already satisfied: pyrsistent==0.17.3 in /home/vitor/anaconda3/envs/commons/lib/python3.8/site-packages (from -r requirements.txt (line 70)) (0.17.3)\n",
      "Collecting pytest==6.1.1\n",
      "  Using cached pytest-6.1.1-py3-none-any.whl (272 kB)\n",
      "Requirement already satisfied: python-dateutil==2.8.1 in /home/vitor/anaconda3/envs/commons/lib/python3.8/site-packages (from -r requirements.txt (line 72)) (2.8.1)\n",
      "Requirement already satisfied: pytz==2020.1 in /home/vitor/anaconda3/envs/commons/lib/python3.8/site-packages (from -r requirements.txt (line 73)) (2020.1)\n",
      "Requirement already satisfied: pyzmq==19.0.2 in /home/vitor/anaconda3/envs/commons/lib/python3.8/site-packages (from -r requirements.txt (line 74)) (19.0.2)\n",
      "Requirement already satisfied: qtconsole==4.7.7 in /home/vitor/anaconda3/envs/commons/lib/python3.8/site-packages (from -r requirements.txt (line 75)) (4.7.7)\n",
      "Requirement already satisfied: QtPy==1.9.0 in /home/vitor/anaconda3/envs/commons/lib/python3.8/site-packages (from -r requirements.txt (line 76)) (1.9.0)\n",
      "Requirement already satisfied: scipy==1.5.2 in /home/vitor/anaconda3/envs/commons/lib/python3.8/site-packages (from -r requirements.txt (line 77)) (1.5.2)\n",
      "Requirement already satisfied: Send2Trash==1.5.0 in /home/vitor/anaconda3/envs/commons/lib/python3.8/site-packages (from -r requirements.txt (line 78)) (1.5.0)\n",
      "Requirement already satisfied: six==1.15.0 in /home/vitor/anaconda3/envs/commons/lib/python3.8/site-packages (from -r requirements.txt (line 79)) (1.15.0)\n",
      "Requirement already satisfied: terminado==0.9.1 in /home/vitor/anaconda3/envs/commons/lib/python3.8/site-packages (from -r requirements.txt (line 80)) (0.9.1)\n",
      "Requirement already satisfied: testpath==0.4.4 in /home/vitor/anaconda3/envs/commons/lib/python3.8/site-packages (from -r requirements.txt (line 81)) (0.4.4)\n",
      "Requirement already satisfied: toml==0.10.1 in /home/vitor/anaconda3/envs/commons/lib/python3.8/site-packages (from -r requirements.txt (line 82)) (0.10.1)\n",
      "Requirement already satisfied: tornado==6.0.4 in /home/vitor/anaconda3/envs/commons/lib/python3.8/site-packages (from -r requirements.txt (line 83)) (6.0.4)\n",
      "Collecting traitlets==5.0.4\n",
      "  Downloading traitlets-5.0.4-py3-none-any.whl (98 kB)\n",
      "\u001b[K     |████████████████████████████████| 98 kB 175 kB/s eta 0:00:01\n",
      "\u001b[?25hRequirement already satisfied: wcwidth==0.2.5 in /home/vitor/anaconda3/envs/commons/lib/python3.8/site-packages (from -r requirements.txt (line 85)) (0.2.5)\n",
      "Requirement already satisfied: webencodings==0.5.1 in /home/vitor/anaconda3/envs/commons/lib/python3.8/site-packages (from -r requirements.txt (line 86)) (0.5.1)\n",
      "Requirement already satisfied: widgetsnbextension==3.5.1 in /home/vitor/anaconda3/envs/commons/lib/python3.8/site-packages (from -r requirements.txt (line 87)) (3.5.1)\n",
      "Collecting wrapt==1.12.1\n",
      "  Downloading wrapt-1.12.1.tar.gz (27 kB)\n",
      "Requirement already satisfied: setuptools>=18.5 in /home/vitor/anaconda3/envs/commons/lib/python3.8/site-packages (from ipython==7.18.1->-r requirements.txt (line 21)) (50.3.1.post20201107)\n",
      "Building wheels for collected packages: dill, multiprocess, pandocfilters, pathos, pox, ppft, wrapt\n",
      "  Building wheel for dill (setup.py) ... \u001b[?25ldone\n",
      "\u001b[?25h  Created wheel for dill: filename=dill-0.3.2-py3-none-any.whl size=78912 sha256=8cc879c3cbb3858e846d2b2d68fb579b186c4adcc54c3d477c0e6cf885745fde\n",
      "  Stored in directory: /home/vitor/.cache/pip/wheels/93/7f/7d/78ec535a4340ef2696aad8b17fe8bb063d56301bd62881b069\n",
      "  Building wheel for multiprocess (setup.py) ... \u001b[?25ldone\n",
      "\u001b[?25h  Created wheel for multiprocess: filename=multiprocess-0.70.10-py3-none-any.whl size=125838 sha256=d84ff5e33c066f62f758083668d3a482f2b93fe7f2d962b88bc2bf5de342b069\n",
      "  Stored in directory: /home/vitor/.cache/pip/wheels/f4/c7/82/0bcdc3506e6a8365963db24f477b81693438d4b9165c0757b7\n",
      "  Building wheel for pandocfilters (setup.py) ... \u001b[?25ldone\n",
      "\u001b[?25h  Created wheel for pandocfilters: filename=pandocfilters-1.4.2-py3-none-any.whl size=7855 sha256=8e514bd326400ad4674f81973fd5aab5cbc11da1f6b168c1d9ff02e2212cf9a2\n",
      "  Stored in directory: /home/vitor/.cache/pip/wheels/f6/08/65/e4636b703d0e870cd62692dafd6b47db27287fe80cea433722\n",
      "  Building wheel for pathos (setup.py) ... \u001b[?25ldone\n",
      "\u001b[?25h  Created wheel for pathos: filename=pathos-0.2.6-py3-none-any.whl size=77675 sha256=8d8a6b3f7d81a482c12be13d02c04e3b838797cd6a3edc7326d9c261aea0cf58\n",
      "  Stored in directory: /home/vitor/.cache/pip/wheels/83/12/43/a7b335eac30d213e8cbe768bff7456ef4bc76351769864dd79\n",
      "  Building wheel for pox (setup.py) ... \u001b[?25ldone\n",
      "\u001b[?25h  Created wheel for pox: filename=pox-0.2.8-py3-none-any.whl size=28288 sha256=4759392b9ffdfd4995d1e58c7be1a175920653456a8aec499c41de281736b85d\n",
      "  Stored in directory: /home/vitor/.cache/pip/wheels/f2/af/b4/36b9ce8f3b271919abb82400d1548f534578420ab5ef36fb20\n",
      "  Building wheel for ppft (setup.py) ... \u001b[?25ldone\n",
      "\u001b[?25h  Created wheel for ppft: filename=ppft-1.6.6.2-py3-none-any.whl size=64744 sha256=5d9e104ebd87ecd75d7915924bedee7522fbd3cf8339bace8cf4e14cd8f10b12\n",
      "  Stored in directory: /home/vitor/.cache/pip/wheels/32/6c/df/4335813452c1ff652a854b78093302f0caf2359f49f3417fb4\n",
      "  Building wheel for wrapt (setup.py) ... \u001b[?25ldone\n",
      "\u001b[?25h  Created wheel for wrapt: filename=wrapt-1.12.1-cp38-cp38-linux_x86_64.whl size=81786 sha256=6072cbf933ef72fa92578a740d9d162876ba95d4a9bf129d6273290f11b166c8\n",
      "  Stored in directory: /home/vitor/.cache/pip/wheels/5f/fd/9e/b6cf5890494cb8ef0b5eaff72e5d55a70fb56316007d6dfe73\n",
      "Successfully built dill multiprocess pandocfilters pathos pox ppft wrapt\n",
      "Installing collected packages: attrs, coverage, dill, iniconfig, prompt-toolkit, Pygments, traitlets, parso, jedi, ipython, isort, lesscpy, jupyterthemes, kiwisolver, multiprocess, nest-asyncio, nbformat, nbclient, pandocfilters, ppft, pox, pathos, Pillow, pytest, wrapt\n",
      "  Attempting uninstall: attrs\n",
      "    Found existing installation: attrs 20.3.0\n",
      "    Uninstalling attrs-20.3.0:\n",
      "      Successfully uninstalled attrs-20.3.0\n",
      "  Attempting uninstall: dill\n",
      "    Found existing installation: dill 0.3.3\n",
      "    Uninstalling dill-0.3.3:\n",
      "      Successfully uninstalled dill-0.3.3\n",
      "  Attempting uninstall: iniconfig\n",
      "    Found existing installation: iniconfig 1.1.1\n",
      "    Uninstalling iniconfig-1.1.1:\n",
      "      Successfully uninstalled iniconfig-1.1.1\n",
      "  Attempting uninstall: prompt-toolkit\n",
      "    Found existing installation: prompt-toolkit 3.0.8\n",
      "    Uninstalling prompt-toolkit-3.0.8:\n",
      "      Successfully uninstalled prompt-toolkit-3.0.8\n",
      "  Attempting uninstall: Pygments\n",
      "    Found existing installation: Pygments 2.7.2\n",
      "    Uninstalling Pygments-2.7.2:\n",
      "      Successfully uninstalled Pygments-2.7.2\n",
      "  Attempting uninstall: traitlets\n",
      "    Found existing installation: traitlets 5.0.5\n",
      "    Uninstalling traitlets-5.0.5:\n",
      "      Successfully uninstalled traitlets-5.0.5\n",
      "  Attempting uninstall: parso\n",
      "    Found existing installation: parso 0.7.0\n",
      "    Uninstalling parso-0.7.0:\n",
      "      Successfully uninstalled parso-0.7.0\n",
      "  Attempting uninstall: jedi\n",
      "    Found existing installation: jedi 0.17.1\n"
     ]
    },
    {
     "name": "stdout",
     "output_type": "stream",
     "text": [
      "    Uninstalling jedi-0.17.1:\n",
      "      Successfully uninstalled jedi-0.17.1\n",
      "  Attempting uninstall: ipython\n",
      "    Found existing installation: ipython 7.19.0\n",
      "    Uninstalling ipython-7.19.0:\n",
      "      Successfully uninstalled ipython-7.19.0\n",
      "  Attempting uninstall: isort\n",
      "    Found existing installation: isort 5.6.4\n",
      "    Uninstalling isort-5.6.4:\n",
      "      Successfully uninstalled isort-5.6.4\n",
      "  Attempting uninstall: kiwisolver\n",
      "    Found existing installation: kiwisolver 1.3.0\n",
      "    Uninstalling kiwisolver-1.3.0:\n",
      "      Successfully uninstalled kiwisolver-1.3.0\n",
      "  Attempting uninstall: multiprocess\n",
      "    Found existing installation: multiprocess 0.70.11.1\n",
      "    Uninstalling multiprocess-0.70.11.1:\n",
      "      Successfully uninstalled multiprocess-0.70.11.1\n",
      "  Attempting uninstall: nest-asyncio\n",
      "    Found existing installation: nest-asyncio 1.4.2\n",
      "    Uninstalling nest-asyncio-1.4.2:\n",
      "      Successfully uninstalled nest-asyncio-1.4.2\n",
      "  Attempting uninstall: nbformat\n",
      "    Found existing installation: nbformat 5.0.8\n",
      "    Uninstalling nbformat-5.0.8:\n",
      "      Successfully uninstalled nbformat-5.0.8\n",
      "  Attempting uninstall: nbclient\n",
      "    Found existing installation: nbclient 0.5.1\n",
      "    Uninstalling nbclient-0.5.1:\n",
      "      Successfully uninstalled nbclient-0.5.1\n",
      "  Attempting uninstall: pandocfilters\n",
      "    Found existing installation: pandocfilters 1.4.3\n",
      "    Uninstalling pandocfilters-1.4.3:\n",
      "      Successfully uninstalled pandocfilters-1.4.3\n",
      "  Attempting uninstall: ppft\n",
      "    Found existing installation: ppft 1.6.6.3\n",
      "    Uninstalling ppft-1.6.6.3:\n",
      "      Successfully uninstalled ppft-1.6.6.3\n",
      "  Attempting uninstall: pox\n",
      "    Found existing installation: pox 0.2.9\n",
      "    Uninstalling pox-0.2.9:\n",
      "      Successfully uninstalled pox-0.2.9\n",
      "  Attempting uninstall: pathos\n",
      "    Found existing installation: pathos 0.2.7\n",
      "    Uninstalling pathos-0.2.7:\n",
      "      Successfully uninstalled pathos-0.2.7\n",
      "  Attempting uninstall: Pillow\n",
      "    Found existing installation: Pillow 8.0.1\n",
      "    Uninstalling Pillow-8.0.1:\n",
      "      Successfully uninstalled Pillow-8.0.1\n",
      "  Attempting uninstall: pytest\n",
      "    Found existing installation: pytest 0.0.0\n",
      "    Uninstalling pytest-0.0.0:\n",
      "      Successfully uninstalled pytest-0.0.0\n",
      "  Attempting uninstall: wrapt\n",
      "    Found existing installation: wrapt 1.11.2\n",
      "    Uninstalling wrapt-1.11.2:\n",
      "      Successfully uninstalled wrapt-1.11.2\n",
      "\u001b[31mERROR: After October 2020 you may experience errors when installing or updating packages. This is because pip will change the way that it resolves dependency conflicts.\n",
      "\n",
      "We recommend you use --use-feature=2020-resolver to test your packages with the new resolver before it becomes the default.\n",
      "\n",
      "spyder 4.1.5 requires pyqt5<5.13; python_version >= \"3\", which is not installed.\n",
      "spyder 4.1.5 requires pyqtwebengine<5.13; python_version >= \"3\", which is not installed.\n",
      "spyder 4.1.5 requires jedi==0.17.1, but you'll have jedi 0.17.2 which is incompatible.\n",
      "spyder 4.1.5 requires parso==0.7.0, but you'll have parso 0.7.1 which is incompatible.\u001b[0m\n",
      "Successfully installed Pillow-7.2.0 Pygments-2.7.1 attrs-20.2.0 coverage-5.3 dill-0.3.2 iniconfig-1.0.1 ipython-7.18.1 isort-5.5.4 jedi-0.17.2 jupyterthemes-0.20.0 kiwisolver-1.2.0 lesscpy-0.14.0 multiprocess-0.70.10 nbclient-0.5.0 nbformat-5.0.7 nest-asyncio-1.4.1 pandocfilters-1.4.2 parso-0.7.1 pathos-0.2.6 pox-0.2.8 ppft-1.6.6.2 prompt-toolkit-3.0.7 pytest-6.1.1 traitlets-5.0.4 wrapt-1.12.1\n"
     ]
    }
   ],
   "source": [
    "!pip install -r requirements.txt"
   ]
  },
  {
   "cell_type": "code",
   "execution_count": 2,
   "metadata": {},
   "outputs": [],
   "source": [
    "#!/usr/bin/env python\n",
    "# coding: utf-8\n",
    "\n",
    "import argparse\n",
    "import json\n",
    "from network_utils import get_participants, get_proposals\n",
    "\n",
    "import pandas as pd\n",
    "from cadCAD.configuration import Experiment\n",
    "from cadCAD.configuration.utils import config_sim\n",
    "from cadCAD.engine import ExecutionContext, ExecutionMode, Executor\n",
    "from cadCAD import configs\n",
    "\n",
    "from entities import ProposalStatus\n",
    "from simulation import (CommonsSimulationConfiguration, bootstrap_simulation,\n",
    "                        partial_state_update_blocks)\n",
    "from utils import new_random_number_func\n",
    "\n",
    "\n",
    "def get_simulation_metrics(df_final):\n",
    "    average_sentiment = 0\n",
    "\n",
    "\n",
    "def run_simulation(c: CommonsSimulationConfiguration):\n",
    "    initial_conditions, simulation_parameters = bootstrap_simulation(c)\n",
    "\n",
    "    exp = Experiment()\n",
    "    exp.append_configs(\n",
    "        initial_state=initial_conditions,\n",
    "        partial_state_update_blocks=partial_state_update_blocks,\n",
    "        sim_configs=simulation_parameters\n",
    "    )\n",
    "\n",
    "    # Do not use multi_proc, breaks ipdb.set_trace()\n",
    "    exec_mode = ExecutionMode()\n",
    "    single_proc_context = ExecutionContext(exec_mode.local_mode)\n",
    "    executor = Executor(single_proc_context, configs)\n",
    "\n",
    "    raw_system_events, tensor_field, sessions = executor.execute()\n",
    "\n",
    "    df = pd.DataFrame(raw_system_events)\n",
    "    return df\n",
    "\n",
    "\n",
    "def get_simulation_results(c):\n",
    "    df = run_simulation(c)\n",
    "    df_final = df[df.substep.eq(2)]\n",
    "    random_func = new_random_number_func(None)\n",
    "\n",
    "    last_network = df_final.iloc[-1, 0]\n",
    "    candidates = len(get_proposals(last_network, status=ProposalStatus.CANDIDATE))\n",
    "    actives = len(get_proposals(last_network, status=ProposalStatus.ACTIVE))\n",
    "    completed = len(get_proposals(last_network, status=ProposalStatus.COMPLETED))\n",
    "    failed = len(get_proposals(last_network, status=ProposalStatus.FAILED))\n",
    "    participants = len(get_participants(last_network))\n",
    "\n",
    "    result = {\n",
    "        \"timestep\": list(df_final[\"timestep\"]),\n",
    "        \"funding_pool\": list(df_final[\"funding_pool\"]),\n",
    "        \"token_price\": list(df_final[\"token_price\"]),\n",
    "        \"sentiment\": list(df_final[\"sentiment\"]),\n",
    "        \"score\": int(random_func() * 1000),\n",
    "        \"participants\": participants,\n",
    "        \"proposals\": {\n",
    "            \"candidates\": candidates,\n",
    "            \"actives\": actives,\n",
    "            \"completed\": completed,\n",
    "            \"failed\": failed\n",
    "        }\n",
    "    }\n",
    "    return result, df_final\n",
    "\n",
    "\n"
   ]
  },
  {
   "cell_type": "code",
   "execution_count": 3,
   "metadata": {},
   "outputs": [],
   "source": [
    "hatchers_count = 35"
   ]
  },
  {
   "cell_type": "code",
   "execution_count": null,
   "metadata": {},
   "outputs": [
    {
     "name": "stdout",
     "output_type": "stream",
     "text": [
      "COLLATERAL 0.16\n",
      "\n",
      "                  ___________    ____\n",
      "  ________ __ ___/ / ____/   |  / __ \\\n",
      " / ___/ __` / __  / /   / /| | / / / /\n",
      "/ /__/ /_/ / /_/ / /___/ ___ |/ /_/ /\n",
      "\\___/\\__,_/\\__,_/\\____/_/  |_/_____/\n",
      "by cadCAD\n",
      "\n",
      "Execution Mode: local_proc\n",
      "Configuration Count: 1\n",
      "Dimensions of the first simulation: (Timesteps, Params, Runs, Vars) = (200, 9, 1, 8)\n",
      "Execution Method: local_simulations\n",
      "SimIDs   : [0]\n",
      "SubsetIDs: [0]\n",
      "Ns       : [0]\n",
      "ExpIDs   : [0]\n",
      "Execution Mode: single_threaded\n"
     ]
    }
   ],
   "source": [
    "c = CommonsSimulationConfiguration(timesteps_days=200, days_to_80p_of_max_voting_weight=15, hatchers=hatchers_count, proposals=35, exit_tribute=0.5)\n",
    "result, df_final = get_simulation_results(c)"
   ]
  },
  {
   "cell_type": "code",
   "execution_count": null,
   "metadata": {
    "scrolled": true
   },
   "outputs": [],
   "source": [
    "df_final"
   ]
  },
  {
   "cell_type": "markdown",
   "metadata": {},
   "source": [
    "# Metrics"
   ]
  },
  {
   "cell_type": "code",
   "execution_count": null,
   "metadata": {},
   "outputs": [],
   "source": [
    "scores = []"
   ]
  },
  {
   "cell_type": "markdown",
   "metadata": {},
   "source": [
    "## 1 -  price compared to hatch price"
   ]
  },
  {
   "cell_type": "code",
   "execution_count": null,
   "metadata": {},
   "outputs": [],
   "source": [
    "hatch_price = df_final.iloc[0, 5]\n",
    "final_price = df_final.iloc[-1, 5]\n",
    "ratio_price_1 = final_price/hatch_price\n",
    "scores.append(ratio_price_1)\n",
    "print(\"PRICE RATIO:\", ratio_price_1)"
   ]
  },
  {
   "cell_type": "markdown",
   "metadata": {},
   "source": [
    "## 2 - Sentiment at the end of the 3 years"
   ]
  },
  {
   "cell_type": "code",
   "execution_count": null,
   "metadata": {},
   "outputs": [],
   "source": [
    "final_sentiment_2 = df_final.iloc[-1, 7]\n",
    "scores.append(final_sentiment_2)\n",
    "print(\"FINAL SENTIMENT:\", final_sentiment_2)"
   ]
  },
  {
   "cell_type": "markdown",
   "metadata": {},
   "source": [
    "## 3 - Number of proposals funded compared to initial proposals"
   ]
  },
  {
   "cell_type": "code",
   "execution_count": null,
   "metadata": {},
   "outputs": [],
   "source": [
    "last_network = df_final.iloc[-1, 0]\n",
    "all_proposals = len(get_proposals(last_network))\n",
    "candidates = len(get_proposals(last_network, status=ProposalStatus.CANDIDATE))\n",
    "\n",
    "funded = all_proposals - candidates\n",
    "initial_proposals = len(get_proposals(df_final.iloc[0, 0], status=ProposalStatus.CANDIDATE))\n",
    "ratio_funded_3 = funded/initial_proposals\n",
    "scores.append(ratio_funded_3)\n",
    "print(\"RATIO FUNDED BY INITIAL PROPOSALS:\", ratio_funded_3)"
   ]
  },
  {
   "cell_type": "markdown",
   "metadata": {},
   "source": [
    "## 4 - Total spent by the funding pool compared to the amount received in the hatch phase"
   ]
  },
  {
   "cell_type": "code",
   "execution_count": null,
   "metadata": {},
   "outputs": [],
   "source": [
    "proposals = get_proposals(last_network)\n",
    "\n",
    "total_spent = 0\n",
    "for _, proposal in proposals:\n",
    "    if proposal.status == ProposalStatus.CANDIDATE:\n",
    "        pass\n",
    "    else: \n",
    "        total_spent += proposal.funds_requested\n",
    "        \n",
    "funding_pool_hatch = df_final.iloc[0, 2]\n",
    "\n",
    "print(\"FUNDS RECEIVED ON HACTH PHASE:\",funding_pool_hatch)     \n",
    "print(\"TOTAL SPENT BY THE FUNDING POOL:\", total_spent)\n",
    "ratio_spent_4 = total_spent/funding_pool_hatch\n",
    "scores.append(ratio_spent_4)\n",
    "print(\"RATIO:\", ratio_spent_4)"
   ]
  },
  {
   "cell_type": "markdown",
   "metadata": {},
   "source": [
    "## 5 - Average amount in funding pool over time compared to the amount received in the hatch phase"
   ]
  },
  {
   "cell_type": "code",
   "execution_count": null,
   "metadata": {},
   "outputs": [],
   "source": [
    "avg_funding_pool = df_final[\"funding_pool\"].mean()\n",
    "funding_pool_hatch = df_final.iloc[0, 2]\n",
    "avg_funding_pool_ratio_5 = avg_funding_pool/funding_pool_hatch\n",
    "scores.append(avg_funding_pool_ratio_5)\n",
    "print(\"RATIO:\", avg_funding_pool_ratio_5)"
   ]
  },
  {
   "cell_type": "markdown",
   "metadata": {},
   "source": [
    "## 6 - Average price compared with hatch price"
   ]
  },
  {
   "cell_type": "code",
   "execution_count": null,
   "metadata": {},
   "outputs": [],
   "source": [
    "avg_price = df_final[\"token_price\"].mean()\n",
    "hatch_price = df_final.iloc[0, 5]\n",
    "print(\"AVG PRICE:\", avg_price, \"HATCH PRICE:\", hatch_price)\n",
    "avg_price_ratio_6 = avg_price/hatch_price\n",
    "scores.append(avg_price_ratio_6)\n",
    "print(\"PRICE RATIO:\", avg_price_ratio_6)"
   ]
  },
  {
   "cell_type": "markdown",
   "metadata": {},
   "source": [
    "## 7 - Average sentiment"
   ]
  },
  {
   "cell_type": "code",
   "execution_count": null,
   "metadata": {},
   "outputs": [],
   "source": [
    "avg_sentiment_7 = df_final[\"sentiment\"].mean()\n",
    "scores.append(avg_sentiment_7)\n",
    "print(\"AVERAGE SENTIMENT:\", avg_sentiment_7)"
   ]
  },
  {
   "cell_type": "markdown",
   "metadata": {},
   "source": [
    "## 8 - Ratio of successful projects to failed ones"
   ]
  },
  {
   "cell_type": "code",
   "execution_count": null,
   "metadata": {},
   "outputs": [],
   "source": [
    "completed = len(get_proposals(last_network, status=ProposalStatus.COMPLETED))\n",
    "failed = len(get_proposals(last_network, status=ProposalStatus.FAILED))\n",
    "\n",
    "print(\"COMPLETED:\", completed, \"FAILED:\", failed)\n",
    "ratio_completed_failed_8 = completed/failed\n",
    "scores.append(ratio_completed_failed_8)\n",
    "print(\"RATIO completed/failed\", ratio_completed_failed_8)"
   ]
  },
  {
   "cell_type": "markdown",
   "metadata": {},
   "source": [
    "## 9 - Nº of final participants compared to Nº of hatchers"
   ]
  },
  {
   "cell_type": "code",
   "execution_count": null,
   "metadata": {},
   "outputs": [],
   "source": [
    "last_network = df_final.iloc[-1, 0]\n",
    "\n",
    "participants = len(get_participants(last_network))\n",
    "print(\"PARTICIPANTS:\",participants)\n",
    "ratio_participants_9 = participants/hatchers_count\n",
    "scores.append(ratio_participants_9)\n",
    "print(\"RATIO hatchers/partcicipants\", ratio_participants_9)"
   ]
  },
  {
   "cell_type": "markdown",
   "metadata": {},
   "source": [
    "# Final Score"
   ]
  },
  {
   "cell_type": "code",
   "execution_count": null,
   "metadata": {},
   "outputs": [],
   "source": [
    "print(scores)\n",
    "print(\"FINAL SCORE\", sum(scores)*100)"
   ]
  }
 ],
 "metadata": {
  "kernelspec": {
   "display_name": "Python 3",
   "language": "python",
   "name": "python3"
  },
  "language_info": {
   "codemirror_mode": {
    "name": "ipython",
    "version": 3
   },
   "file_extension": ".py",
   "mimetype": "text/x-python",
   "name": "python",
   "nbconvert_exporter": "python",
   "pygments_lexer": "ipython3",
   "version": "3.8.5"
  }
 },
 "nbformat": 4,
 "nbformat_minor": 4
}
