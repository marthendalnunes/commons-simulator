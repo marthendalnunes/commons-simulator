{
 "cells": [
  {
   "cell_type": "code",
   "execution_count": 1,
   "metadata": {},
   "outputs": [],
   "source": [
    "#!/usr/bin/env python\n",
    "# coding: utf-8\n",
    "\n",
    "import argparse\n",
    "import json\n",
    "from network_utils import get_participants, get_proposals\n",
    "\n",
    "import pandas as pd\n",
    "from cadCAD.configuration import Experiment\n",
    "from cadCAD.configuration.utils import config_sim\n",
    "from cadCAD.engine import ExecutionContext, ExecutionMode, Executor\n",
    "from cadCAD import configs\n",
    "\n",
    "from entities import ProposalStatus\n",
    "from simulation import (CommonsSimulationConfiguration, bootstrap_simulation,\n",
    "                        partial_state_update_blocks)\n",
    "from utils import new_random_number_func\n",
    "\n",
    "\n",
    "def get_simulation_metrics(df_final):\n",
    "    average_sentiment = 0\n",
    "\n",
    "\n",
    "def run_simulation(c: CommonsSimulationConfiguration):\n",
    "    initial_conditions, simulation_parameters = bootstrap_simulation(c)\n",
    "\n",
    "    exp = Experiment()\n",
    "    exp.append_configs(\n",
    "        initial_state=initial_conditions,\n",
    "        partial_state_update_blocks=partial_state_update_blocks,\n",
    "        sim_configs=simulation_parameters\n",
    "    )\n",
    "\n",
    "    # Do not use multi_proc, breaks ipdb.set_trace()\n",
    "    exec_mode = ExecutionMode()\n",
    "    single_proc_context = ExecutionContext(exec_mode.local_mode)\n",
    "    executor = Executor(single_proc_context, configs)\n",
    "\n",
    "    raw_system_events, tensor_field, sessions = executor.execute()\n",
    "\n",
    "    df = pd.DataFrame(raw_system_events)\n",
    "    return df\n",
    "\n",
    "\n",
    "def get_simulation_results(c):\n",
    "    df = run_simulation(c)\n",
    "    df_final = df[df.substep.eq(2)]\n",
    "    random_func = new_random_number_func(None)\n",
    "\n",
    "    last_network = df_final.iloc[-1, 0]\n",
    "    candidates = len(get_proposals(last_network, status=ProposalStatus.CANDIDATE))\n",
    "    actives = len(get_proposals(last_network, status=ProposalStatus.ACTIVE))\n",
    "    completed = len(get_proposals(last_network, status=ProposalStatus.COMPLETED))\n",
    "    failed = len(get_proposals(last_network, status=ProposalStatus.FAILED))\n",
    "    participants = len(get_participants(last_network))\n",
    "\n",
    "    result = {\n",
    "        \"timestep\": list(df_final[\"timestep\"]),\n",
    "        \"funding_pool\": list(df_final[\"funding_pool\"]),\n",
    "        \"token_price\": list(df_final[\"token_price\"]),\n",
    "        \"sentiment\": list(df_final[\"sentiment\"]),\n",
    "        \"score\": int(random_func() * 1000),\n",
    "        \"participants\": participants,\n",
    "        \"proposals\": {\n",
    "            \"candidates\": candidates,\n",
    "            \"actives\": actives,\n",
    "            \"completed\": completed,\n",
    "            \"failed\": failed\n",
    "        }\n",
    "    }\n",
    "    return result, df_final\n",
    "\n",
    "\n"
   ]
  },
  {
   "cell_type": "code",
   "execution_count": 2,
   "metadata": {},
   "outputs": [],
   "source": [
    "hatchers_count = 35"
   ]
  },
  {
   "cell_type": "code",
   "execution_count": 3,
   "metadata": {},
   "outputs": [
    {
     "name": "stdout",
     "output_type": "stream",
     "text": [
      "COLLATERAL 0.16\n",
      "\n",
      "                  ___________    ____\n",
      "  ________ __ ___/ / ____/   |  / __ \\\n",
      " / ___/ __` / __  / /   / /| | / / / /\n",
      "/ /__/ /_/ / /_/ / /___/ ___ |/ /_/ /\n",
      "\\___/\\__,_/\\__,_/\\____/_/  |_/_____/\n",
      "by cadCAD\n",
      "\n",
      "Execution Mode: local_proc\n",
      "Configuration Count: 1\n",
      "Dimensions of the first simulation: (Timesteps, Params, Runs, Vars) = (200, 9, 1, 8)\n",
      "Execution Method: local_simulations\n",
      "SimIDs   : [0]\n",
      "SubsetIDs: [0]\n",
      "Ns       : [0]\n",
      "ExpIDs   : [0]\n",
      "Execution Mode: single_threaded\n",
      "Total execution time: 145.83s\n"
     ]
    }
   ],
   "source": [
    "c = CommonsSimulationConfiguration(timesteps_days=200, days_to_80p_of_max_voting_weight=15, hatchers=hatchers_count, proposals=35, exit_tribute=0.5)\n",
    "result, df_final = get_simulation_results(c)"
   ]
  },
  {
   "cell_type": "code",
   "execution_count": 4,
   "metadata": {
    "scrolled": true
   },
   "outputs": [
    {
     "data": {
      "text/html": [
       "<div>\n",
       "<style scoped>\n",
       "    .dataframe tbody tr th:only-of-type {\n",
       "        vertical-align: middle;\n",
       "    }\n",
       "\n",
       "    .dataframe tbody tr th {\n",
       "        vertical-align: top;\n",
       "    }\n",
       "\n",
       "    .dataframe thead th {\n",
       "        text-align: right;\n",
       "    }\n",
       "</style>\n",
       "<table border=\"1\" class=\"dataframe\">\n",
       "  <thead>\n",
       "    <tr style=\"text-align: right;\">\n",
       "      <th></th>\n",
       "      <th>network</th>\n",
       "      <th>commons</th>\n",
       "      <th>funding_pool</th>\n",
       "      <th>collateral_pool</th>\n",
       "      <th>token_supply</th>\n",
       "      <th>token_price</th>\n",
       "      <th>policy_output</th>\n",
       "      <th>sentiment</th>\n",
       "      <th>simulation</th>\n",
       "      <th>subset</th>\n",
       "      <th>run</th>\n",
       "      <th>substep</th>\n",
       "      <th>timestep</th>\n",
       "    </tr>\n",
       "  </thead>\n",
       "  <tbody>\n",
       "    <tr>\n",
       "      <th>2</th>\n",
       "      <td>(0, 1, 2, 3, 4, 5, 6, 7, 8, 9, 10, 11, 12, 13,...</td>\n",
       "      <td>&lt;hatch.Commons object at 0x7f0da7f82f40&gt;</td>\n",
       "      <td>3.267858e+06</td>\n",
       "      <td>1.307143e+07</td>\n",
       "      <td>1.633929e+08</td>\n",
       "      <td>0.160000</td>\n",
       "      <td>None</td>\n",
       "      <td>0.750000</td>\n",
       "      <td>0</td>\n",
       "      <td>0</td>\n",
       "      <td>1</td>\n",
       "      <td>2</td>\n",
       "      <td>1</td>\n",
       "    </tr>\n",
       "    <tr>\n",
       "      <th>21</th>\n",
       "      <td>(0, 1, 2, 3, 4, 5, 6, 7, 8, 9, 10, 11, 12, 13,...</td>\n",
       "      <td>&lt;hatch.Commons object at 0x7f0da75689d0&gt;</td>\n",
       "      <td>3.268789e+06</td>\n",
       "      <td>1.307711e+07</td>\n",
       "      <td>1.634284e+08</td>\n",
       "      <td>0.160035</td>\n",
       "      <td>{'failed': [], 'identity': 0, 'succeeded': []}</td>\n",
       "      <td>0.724571</td>\n",
       "      <td>0</td>\n",
       "      <td>0</td>\n",
       "      <td>1</td>\n",
       "      <td>2</td>\n",
       "      <td>2</td>\n",
       "    </tr>\n",
       "    <tr>\n",
       "      <th>40</th>\n",
       "      <td>(0, 1, 2, 3, 4, 5, 6, 7, 8, 9, 10, 11, 12, 13,...</td>\n",
       "      <td>&lt;hatch.Commons object at 0x7f0da7660a30&gt;</td>\n",
       "      <td>3.269384e+06</td>\n",
       "      <td>1.307966e+07</td>\n",
       "      <td>1.634443e+08</td>\n",
       "      <td>0.160050</td>\n",
       "      <td>{'failed': [], 'identity': 0, 'succeeded': []}</td>\n",
       "      <td>0.719571</td>\n",
       "      <td>0</td>\n",
       "      <td>0</td>\n",
       "      <td>1</td>\n",
       "      <td>2</td>\n",
       "      <td>3</td>\n",
       "    </tr>\n",
       "    <tr>\n",
       "      <th>59</th>\n",
       "      <td>(0, 1, 2, 3, 4, 5, 6, 7, 8, 9, 10, 11, 12, 13,...</td>\n",
       "      <td>&lt;hatch.Commons object at 0x7f0da63b89a0&gt;</td>\n",
       "      <td>3.270484e+06</td>\n",
       "      <td>1.308115e+07</td>\n",
       "      <td>1.634536e+08</td>\n",
       "      <td>0.160059</td>\n",
       "      <td>{'failed': [], 'identity': 0, 'succeeded': []}</td>\n",
       "      <td>0.714571</td>\n",
       "      <td>0</td>\n",
       "      <td>0</td>\n",
       "      <td>1</td>\n",
       "      <td>2</td>\n",
       "      <td>4</td>\n",
       "    </tr>\n",
       "    <tr>\n",
       "      <th>78</th>\n",
       "      <td>(0, 1, 2, 3, 4, 5, 6, 7, 8, 9, 10, 11, 12, 13,...</td>\n",
       "      <td>&lt;hatch.Commons object at 0x7f0da57923d0&gt;</td>\n",
       "      <td>3.271628e+06</td>\n",
       "      <td>1.308171e+07</td>\n",
       "      <td>1.634571e+08</td>\n",
       "      <td>0.160063</td>\n",
       "      <td>{'failed': [], 'identity': 0, 'succeeded': []}</td>\n",
       "      <td>0.709571</td>\n",
       "      <td>0</td>\n",
       "      <td>0</td>\n",
       "      <td>1</td>\n",
       "      <td>2</td>\n",
       "      <td>5</td>\n",
       "    </tr>\n",
       "    <tr>\n",
       "      <th>...</th>\n",
       "      <td>...</td>\n",
       "      <td>...</td>\n",
       "      <td>...</td>\n",
       "      <td>...</td>\n",
       "      <td>...</td>\n",
       "      <td>...</td>\n",
       "      <td>...</td>\n",
       "      <td>...</td>\n",
       "      <td>...</td>\n",
       "      <td>...</td>\n",
       "      <td>...</td>\n",
       "      <td>...</td>\n",
       "      <td>...</td>\n",
       "    </tr>\n",
       "    <tr>\n",
       "      <th>3707</th>\n",
       "      <td>(0, 1, 2, 3, 4, 5, 6, 7, 8, 9, 10, 11, 12, 13,...</td>\n",
       "      <td>&lt;hatch.Commons object at 0x7f0cfcd8e5b0&gt;</td>\n",
       "      <td>7.806038e+06</td>\n",
       "      <td>9.863910e+05</td>\n",
       "      <td>4.488447e+07</td>\n",
       "      <td>0.043952</td>\n",
       "      <td>{'failed': [], 'identity': 0, 'succeeded': []}</td>\n",
       "      <td>0.205018</td>\n",
       "      <td>0</td>\n",
       "      <td>0</td>\n",
       "      <td>1</td>\n",
       "      <td>2</td>\n",
       "      <td>196</td>\n",
       "    </tr>\n",
       "    <tr>\n",
       "      <th>3726</th>\n",
       "      <td>(0, 1, 2, 3, 4, 5, 6, 7, 8, 9, 10, 11, 12, 13,...</td>\n",
       "      <td>&lt;hatch.Commons object at 0x7f0cfbc90fa0&gt;</td>\n",
       "      <td>7.807056e+06</td>\n",
       "      <td>9.859977e+05</td>\n",
       "      <td>4.487552e+07</td>\n",
       "      <td>0.043944</td>\n",
       "      <td>{'failed': [], 'identity': 0, 'succeeded': []}</td>\n",
       "      <td>0.202431</td>\n",
       "      <td>0</td>\n",
       "      <td>0</td>\n",
       "      <td>1</td>\n",
       "      <td>2</td>\n",
       "      <td>197</td>\n",
       "    </tr>\n",
       "    <tr>\n",
       "      <th>3745</th>\n",
       "      <td>(0, 1, 2, 3, 4, 5, 6, 7, 8, 9, 10, 11, 12, 13,...</td>\n",
       "      <td>&lt;hatch.Commons object at 0x7f0cfac85250&gt;</td>\n",
       "      <td>7.830046e+06</td>\n",
       "      <td>9.429239e+05</td>\n",
       "      <td>4.388437e+07</td>\n",
       "      <td>0.042973</td>\n",
       "      <td>{'failed': [], 'identity': 0, 'succeeded': []}</td>\n",
       "      <td>0.199931</td>\n",
       "      <td>0</td>\n",
       "      <td>0</td>\n",
       "      <td>1</td>\n",
       "      <td>2</td>\n",
       "      <td>198</td>\n",
       "    </tr>\n",
       "    <tr>\n",
       "      <th>3764</th>\n",
       "      <td>(0, 1, 2, 3, 4, 5, 6, 7, 8, 9, 10, 11, 12, 13,...</td>\n",
       "      <td>&lt;hatch.Commons object at 0x7f0cf99ee640&gt;</td>\n",
       "      <td>7.834695e+06</td>\n",
       "      <td>9.360809e+05</td>\n",
       "      <td>4.372484e+07</td>\n",
       "      <td>0.042817</td>\n",
       "      <td>{'failed': [], 'identity': 0, 'succeeded': []}</td>\n",
       "      <td>0.197467</td>\n",
       "      <td>0</td>\n",
       "      <td>0</td>\n",
       "      <td>1</td>\n",
       "      <td>2</td>\n",
       "      <td>199</td>\n",
       "    </tr>\n",
       "    <tr>\n",
       "      <th>3783</th>\n",
       "      <td>(0, 1, 2, 3, 4, 5, 6, 7, 8, 9, 10, 11, 12, 13,...</td>\n",
       "      <td>&lt;hatch.Commons object at 0x7f0cf8a0f400&gt;</td>\n",
       "      <td>7.839545e+06</td>\n",
       "      <td>9.284320e+05</td>\n",
       "      <td>4.354584e+07</td>\n",
       "      <td>0.042642</td>\n",
       "      <td>{'failed': [], 'identity': 0, 'succeeded': []}</td>\n",
       "      <td>0.195099</td>\n",
       "      <td>0</td>\n",
       "      <td>0</td>\n",
       "      <td>1</td>\n",
       "      <td>2</td>\n",
       "      <td>200</td>\n",
       "    </tr>\n",
       "  </tbody>\n",
       "</table>\n",
       "<p>200 rows × 13 columns</p>\n",
       "</div>"
      ],
      "text/plain": [
       "                                                network  \\\n",
       "2     (0, 1, 2, 3, 4, 5, 6, 7, 8, 9, 10, 11, 12, 13,...   \n",
       "21    (0, 1, 2, 3, 4, 5, 6, 7, 8, 9, 10, 11, 12, 13,...   \n",
       "40    (0, 1, 2, 3, 4, 5, 6, 7, 8, 9, 10, 11, 12, 13,...   \n",
       "59    (0, 1, 2, 3, 4, 5, 6, 7, 8, 9, 10, 11, 12, 13,...   \n",
       "78    (0, 1, 2, 3, 4, 5, 6, 7, 8, 9, 10, 11, 12, 13,...   \n",
       "...                                                 ...   \n",
       "3707  (0, 1, 2, 3, 4, 5, 6, 7, 8, 9, 10, 11, 12, 13,...   \n",
       "3726  (0, 1, 2, 3, 4, 5, 6, 7, 8, 9, 10, 11, 12, 13,...   \n",
       "3745  (0, 1, 2, 3, 4, 5, 6, 7, 8, 9, 10, 11, 12, 13,...   \n",
       "3764  (0, 1, 2, 3, 4, 5, 6, 7, 8, 9, 10, 11, 12, 13,...   \n",
       "3783  (0, 1, 2, 3, 4, 5, 6, 7, 8, 9, 10, 11, 12, 13,...   \n",
       "\n",
       "                                       commons  funding_pool  collateral_pool  \\\n",
       "2     <hatch.Commons object at 0x7f0da7f82f40>  3.267858e+06     1.307143e+07   \n",
       "21    <hatch.Commons object at 0x7f0da75689d0>  3.268789e+06     1.307711e+07   \n",
       "40    <hatch.Commons object at 0x7f0da7660a30>  3.269384e+06     1.307966e+07   \n",
       "59    <hatch.Commons object at 0x7f0da63b89a0>  3.270484e+06     1.308115e+07   \n",
       "78    <hatch.Commons object at 0x7f0da57923d0>  3.271628e+06     1.308171e+07   \n",
       "...                                        ...           ...              ...   \n",
       "3707  <hatch.Commons object at 0x7f0cfcd8e5b0>  7.806038e+06     9.863910e+05   \n",
       "3726  <hatch.Commons object at 0x7f0cfbc90fa0>  7.807056e+06     9.859977e+05   \n",
       "3745  <hatch.Commons object at 0x7f0cfac85250>  7.830046e+06     9.429239e+05   \n",
       "3764  <hatch.Commons object at 0x7f0cf99ee640>  7.834695e+06     9.360809e+05   \n",
       "3783  <hatch.Commons object at 0x7f0cf8a0f400>  7.839545e+06     9.284320e+05   \n",
       "\n",
       "      token_supply  token_price  \\\n",
       "2     1.633929e+08     0.160000   \n",
       "21    1.634284e+08     0.160035   \n",
       "40    1.634443e+08     0.160050   \n",
       "59    1.634536e+08     0.160059   \n",
       "78    1.634571e+08     0.160063   \n",
       "...            ...          ...   \n",
       "3707  4.488447e+07     0.043952   \n",
       "3726  4.487552e+07     0.043944   \n",
       "3745  4.388437e+07     0.042973   \n",
       "3764  4.372484e+07     0.042817   \n",
       "3783  4.354584e+07     0.042642   \n",
       "\n",
       "                                       policy_output  sentiment  simulation  \\\n",
       "2                                               None   0.750000           0   \n",
       "21    {'failed': [], 'identity': 0, 'succeeded': []}   0.724571           0   \n",
       "40    {'failed': [], 'identity': 0, 'succeeded': []}   0.719571           0   \n",
       "59    {'failed': [], 'identity': 0, 'succeeded': []}   0.714571           0   \n",
       "78    {'failed': [], 'identity': 0, 'succeeded': []}   0.709571           0   \n",
       "...                                              ...        ...         ...   \n",
       "3707  {'failed': [], 'identity': 0, 'succeeded': []}   0.205018           0   \n",
       "3726  {'failed': [], 'identity': 0, 'succeeded': []}   0.202431           0   \n",
       "3745  {'failed': [], 'identity': 0, 'succeeded': []}   0.199931           0   \n",
       "3764  {'failed': [], 'identity': 0, 'succeeded': []}   0.197467           0   \n",
       "3783  {'failed': [], 'identity': 0, 'succeeded': []}   0.195099           0   \n",
       "\n",
       "      subset  run  substep  timestep  \n",
       "2          0    1        2         1  \n",
       "21         0    1        2         2  \n",
       "40         0    1        2         3  \n",
       "59         0    1        2         4  \n",
       "78         0    1        2         5  \n",
       "...      ...  ...      ...       ...  \n",
       "3707       0    1        2       196  \n",
       "3726       0    1        2       197  \n",
       "3745       0    1        2       198  \n",
       "3764       0    1        2       199  \n",
       "3783       0    1        2       200  \n",
       "\n",
       "[200 rows x 13 columns]"
      ]
     },
     "execution_count": 4,
     "metadata": {},
     "output_type": "execute_result"
    }
   ],
   "source": [
    "df_final"
   ]
  },
  {
   "cell_type": "markdown",
   "metadata": {},
   "source": [
    "# Metrics"
   ]
  },
  {
   "cell_type": "code",
   "execution_count": 5,
   "metadata": {},
   "outputs": [],
   "source": [
    "scores = []"
   ]
  },
  {
   "cell_type": "markdown",
   "metadata": {},
   "source": [
    "## 1 -  price compared to hatch price"
   ]
  },
  {
   "cell_type": "code",
   "execution_count": 6,
   "metadata": {},
   "outputs": [
    {
     "name": "stdout",
     "output_type": "stream",
     "text": [
      "PRICE RATIO: 0.2665099856387188\n"
     ]
    }
   ],
   "source": [
    "hatch_price = df_final.iloc[0, 5]\n",
    "final_price = df_final.iloc[-1, 5]\n",
    "ratio_price_1 = final_price/hatch_price\n",
    "scores.append(ratio_price_1)\n",
    "print(\"PRICE RATIO:\", ratio_price_1)"
   ]
  },
  {
   "cell_type": "markdown",
   "metadata": {},
   "source": [
    "## 2 - Sentiment at the end of the 3 years"
   ]
  },
  {
   "cell_type": "code",
   "execution_count": 7,
   "metadata": {},
   "outputs": [
    {
     "name": "stdout",
     "output_type": "stream",
     "text": [
      "FINAL SENTIMENT: 0.19509884769007596\n"
     ]
    }
   ],
   "source": [
    "final_sentiment_2 = df_final.iloc[-1, 7]\n",
    "scores.append(final_sentiment_2)\n",
    "print(\"FINAL SENTIMENT:\", final_sentiment_2)"
   ]
  },
  {
   "cell_type": "markdown",
   "metadata": {},
   "source": [
    "## 3 - Number of proposals funded compared to initial proposals"
   ]
  },
  {
   "cell_type": "code",
   "execution_count": 8,
   "metadata": {},
   "outputs": [
    {
     "name": "stdout",
     "output_type": "stream",
     "text": [
      "RATIO FUNDED BY INITIAL PROPOSALS: 0.6\n"
     ]
    }
   ],
   "source": [
    "last_network = df_final.iloc[-1, 0]\n",
    "all_proposals = len(get_proposals(last_network))\n",
    "candidates = len(get_proposals(last_network, status=ProposalStatus.CANDIDATE))\n",
    "\n",
    "funded = all_proposals - candidates\n",
    "initial_proposals = len(get_proposals(df_final.iloc[0, 0], status=ProposalStatus.CANDIDATE))\n",
    "ratio_funded_3 = funded/initial_proposals\n",
    "scores.append(ratio_funded_3)\n",
    "print(\"RATIO FUNDED BY INITIAL PROPOSALS:\", ratio_funded_3)"
   ]
  },
  {
   "cell_type": "markdown",
   "metadata": {},
   "source": [
    "## 4 - Total spent by the funding pool compared to the amount received in the hatch phase"
   ]
  },
  {
   "cell_type": "code",
   "execution_count": 9,
   "metadata": {},
   "outputs": [
    {
     "name": "stdout",
     "output_type": "stream",
     "text": [
      "FUNDS RECEIVED ON HACTH PHASE: 3267857.6876969524\n",
      "TOTAL SPENT BY THE FUNDING POOL: 1776816.9164004244\n",
      "RATIO: 0.5437253045289894\n"
     ]
    }
   ],
   "source": [
    "proposals = get_proposals(last_network)\n",
    "\n",
    "total_spent = 0\n",
    "for _, proposal in proposals:\n",
    "    if proposal.status == ProposalStatus.CANDIDATE:\n",
    "        pass\n",
    "    else: \n",
    "        total_spent += proposal.funds_requested\n",
    "        \n",
    "funding_pool_hatch = df_final.iloc[0, 2]\n",
    "\n",
    "print(\"FUNDS RECEIVED ON HACTH PHASE:\",funding_pool_hatch)     \n",
    "print(\"TOTAL SPENT BY THE FUNDING POOL:\", total_spent)\n",
    "ratio_spent_4 = total_spent/funding_pool_hatch\n",
    "scores.append(ratio_spent_4)\n",
    "print(\"RATIO:\", ratio_spent_4)"
   ]
  },
  {
   "cell_type": "markdown",
   "metadata": {},
   "source": [
    "## 5 - Average amount in funding pool over time compared to the amount received in the hatch phase"
   ]
  },
  {
   "cell_type": "code",
   "execution_count": 10,
   "metadata": {},
   "outputs": [
    {
     "name": "stdout",
     "output_type": "stream",
     "text": [
      "RATIO: 1.9625242875644755\n"
     ]
    }
   ],
   "source": [
    "avg_funding_pool = df_final[\"funding_pool\"].mean()\n",
    "funding_pool_hatch = df_final.iloc[0, 2]\n",
    "avg_funding_pool_ratio_5 = avg_funding_pool/funding_pool_hatch\n",
    "scores.append(avg_funding_pool_ratio_5)\n",
    "print(\"RATIO:\", avg_funding_pool_ratio_5)"
   ]
  },
  {
   "cell_type": "markdown",
   "metadata": {},
   "source": [
    "## 6 - Average price compared with hatch price"
   ]
  },
  {
   "cell_type": "code",
   "execution_count": 11,
   "metadata": {},
   "outputs": [
    {
     "name": "stdout",
     "output_type": "stream",
     "text": [
      "AVG PRICE: 0.09690906779524049 HATCH PRICE: 0.16\n",
      "PRICE RATIO: 0.605681673720253\n"
     ]
    }
   ],
   "source": [
    "avg_price = df_final[\"token_price\"].mean()\n",
    "hatch_price = df_final.iloc[0, 5]\n",
    "print(\"AVG PRICE:\", avg_price, \"HATCH PRICE:\", hatch_price)\n",
    "avg_price_ratio_6 = avg_price/hatch_price\n",
    "scores.append(avg_price_ratio_6)\n",
    "print(\"PRICE RATIO:\", avg_price_ratio_6)"
   ]
  },
  {
   "cell_type": "markdown",
   "metadata": {},
   "source": [
    "## 7 - Average sentiment"
   ]
  },
  {
   "cell_type": "code",
   "execution_count": 12,
   "metadata": {},
   "outputs": [
    {
     "name": "stdout",
     "output_type": "stream",
     "text": [
      "AVERAGE SENTIMENT: 0.40255283436722555\n"
     ]
    }
   ],
   "source": [
    "avg_sentiment_7 = df_final[\"sentiment\"].mean()\n",
    "scores.append(avg_sentiment_7)\n",
    "print(\"AVERAGE SENTIMENT:\", avg_sentiment_7)"
   ]
  },
  {
   "cell_type": "markdown",
   "metadata": {},
   "source": [
    "## 8 - Ratio of successful projects to failed ones"
   ]
  },
  {
   "cell_type": "code",
   "execution_count": 13,
   "metadata": {},
   "outputs": [
    {
     "name": "stdout",
     "output_type": "stream",
     "text": [
      "COMPLETED: 6 FAILED: 14\n",
      "RATIO completed/failed 0.42857142857142855\n"
     ]
    }
   ],
   "source": [
    "completed = len(get_proposals(last_network, status=ProposalStatus.COMPLETED))\n",
    "failed = len(get_proposals(last_network, status=ProposalStatus.FAILED))\n",
    "\n",
    "print(\"COMPLETED:\", completed, \"FAILED:\", failed)\n",
    "ratio_completed_failed_8 = completed/failed\n",
    "scores.append(ratio_completed_failed_8)\n",
    "print(\"RATIO completed/failed\", ratio_completed_failed_8)"
   ]
  },
  {
   "cell_type": "markdown",
   "metadata": {},
   "source": [
    "## 9 - Nº of final participants compared to Nº of hatchers"
   ]
  },
  {
   "cell_type": "code",
   "execution_count": 14,
   "metadata": {},
   "outputs": [
    {
     "name": "stdout",
     "output_type": "stream",
     "text": [
      "PARTICIPANTS: 39\n",
      "RATIO hatchers/partcicipants 1.1142857142857143\n"
     ]
    }
   ],
   "source": [
    "last_network = df_final.iloc[-1, 0]\n",
    "\n",
    "participants = len(get_participants(last_network))\n",
    "print(\"PARTICIPANTS:\",participants)\n",
    "ratio_participants_9 = participants/hatchers_count\n",
    "scores.append(ratio_participants_9)\n",
    "print(\"RATIO hatchers/partcicipants\", ratio_participants_9)"
   ]
  },
  {
   "cell_type": "markdown",
   "metadata": {},
   "source": [
    "# Final Score"
   ]
  },
  {
   "cell_type": "code",
   "execution_count": 15,
   "metadata": {},
   "outputs": [
    {
     "name": "stdout",
     "output_type": "stream",
     "text": [
      "[0.2665099856387188, 0.19509884769007596, 0.6, 0.5437253045289894, 1.9625242875644755, 0.605681673720253, 0.40255283436722555, 0.42857142857142855, 1.1142857142857143]\n",
      "FINAL SCORE 611.8950076366881\n"
     ]
    }
   ],
   "source": [
    "print(scores)\n",
    "print(\"FINAL SCORE\", sum(scores)*100)"
   ]
  }
 ],
 "metadata": {
  "kernelspec": {
   "display_name": "Python 3",
   "language": "python",
   "name": "python3"
  },
  "language_info": {
   "codemirror_mode": {
    "name": "ipython",
    "version": 3
   },
   "file_extension": ".py",
   "mimetype": "text/x-python",
   "name": "python",
   "nbconvert_exporter": "python",
   "pygments_lexer": "ipython3",
   "version": "3.8.5"
  }
 },
 "nbformat": 4,
 "nbformat_minor": 4
}
